{
 "cells": [
  {
   "cell_type": "markdown",
   "metadata": {},
   "source": [
    "I found this script on chatGPT to remove the cells in Brian's notebook up to the Exercise\n",
    "\n",
    "%%javascript\n",
    "\n",
    "// Get all the cells\n",
    "var cells = Jupyter.notebook.get_cells();\n",
    "\n",
    "// Calculate the number of cells to delete\n",
    "var numToDelete = cells.length - 12;\n",
    "\n",
    "// Delete the cells\n",
    "for (var i = 0; i < numToDelete; i++) {\n",
    "    Jupyter.notebook.delete_cell(0);  // always delete the first cell, as the list gets re-indexed after each deletion\n",
    "}\n"
   ]
  },
  {
   "cell_type": "markdown",
   "metadata": {},
   "source": [
    "# Exercises"
   ]
  },
  {
   "cell_type": "markdown",
   "metadata": {},
   "source": [
    "## Exercise 1 <br>\n",
    "<p>Write a program that takes in a user input and prints out how many vowels are in the response</p>\n"
   ]
  },
  {
   "cell_type": "code",
   "execution_count": 10,
   "metadata": {},
   "outputs": [
    {
     "name": "stdout",
     "output_type": "stream",
     "text": [
      "Type in some text:  This is a longer response\n",
      "This is a longer response\n",
      "8\n"
     ]
    }
   ],
   "source": [
    "# \"Example\" -> 3\n",
    "# \"Hello World\" -> 3\n",
    "# \"Brian\" -> 2\n",
    "# \"This is a longer response\" -> 8\n",
    "\n",
    "# input(prompt) => ALWAYS RETURN A STRING!\n",
    "count = 0\n",
    "user_input = input('Type in some text:  ')\n",
    "print(user_input)\n",
    "for i in user_input:\n",
    "    if i == 'a' or i == 'A' or i== 'e' or i=='E' or i=='i' or i=='I' or i=='o' or i=='O':\n",
    "        count += 1     # If you want to increment count by one\n",
    "print(count)        \n"
   ]
  },
  {
   "cell_type": "markdown",
   "metadata": {},
   "source": [
    "Basis Syntax for list comprehension\n",
    "\n",
    "`[expression for item in iterable if condition]`\n",
    "\n",
    "expression: The current item in the iteration, but it could also be any arbitrary computation using the item.\n",
    "\n",
    "item: The variable which takes the value of each item in the iterable sequentially.\n",
    "\n",
    "iterable: The object you will iterate over.\n",
    "\n",
    "condition: (Optional) A filter to decide if the expression should be included in the new list.\n",
    "\n",
    "Basic Usage\n",
    "\n",
    "Create a list of the first ten squares:\n",
    "\n",
    "`squares = [x**2 for x in range(10)]`\n",
    "`print(squares)`\n",
    "\n",
    "Using if-else in Expression\n",
    "\n",
    "Get 'even' or 'odd' for numbers in a list:\n",
    "\n",
    "`numbers = [1, 2, 3, 4, 5]\n",
    "result = [\"even\" if x % 2 == 0 else \"odd\" for x in numbers]\n",
    "print(result)`\n",
    "\n",
    "\n"
   ]
  },
  {
   "cell_type": "markdown",
   "metadata": {},
   "source": [
    "## Exercise 2 <br>\n",
    "<p>Using list comprehension, create a list of names of 4 letters or more and capitalize each name\n",
    "<br>"
   ]
  },
  {
   "cell_type": "code",
   "execution_count": 17,
   "metadata": {},
   "outputs": [
    {
     "name": "stdout",
     "output_type": "stream",
     "text": [
      "Here is the list of names of letters of 4 or more and capitalize each name: ['Connor', 'Connor', 'Connor', 'Evan', 'Evan', 'Kevin']\n"
     ]
    }
   ],
   "source": [
    "names1 = ['connor', 'connor', 'bob', 'connor', 'evan', 'max', 'evan', 'bob', 'kevin']\n",
    "names1_output = [x.capitalize() for x in names1 if len(x) > 3]\n",
    "print(f\"Here is the list of names of letters of 4 or more and capitalize each name: {names1_output}\" )\n"
   ]
  },
  {
   "cell_type": "code",
   "execution_count": 20,
   "metadata": {},
   "outputs": [
    {
     "name": "stdout",
     "output_type": "stream",
     "text": [
      "Here is the list of names of letters of 4 or more and capitalize each name: ['Connor', 'Connor', 'Connor', 'Evan', 'Evan', 'Kevin']\n"
     ]
    }
   ],
   "source": [
    "# Bonus Challenge\n",
    "names2 = ['connor', 'connor', 'bob', 'connor', 'evan', 'max', 'evan', 2, 2, 2, 3, 3, 4, 'bob', 'kevin']\n",
    "names2_output = [x.capitalize() for x in names1 if len(x) > 3 and not x.isdigit()]\n",
    "print(f\"Here is the list of names of letters of 4 or more and capitalize each name: {names1_output}\" )\n"
   ]
  },
  {
   "cell_type": "code",
   "execution_count": null,
   "metadata": {},
   "outputs": [],
   "source": [
    "# Output - ['Connor', 'Connor', 'Connor', 'Evan', 'Evan', 'Kevin']"
   ]
  }
 ],
 "metadata": {
  "kernelspec": {
   "display_name": "Python 3 (ipykernel)",
   "language": "python",
   "name": "python3"
  },
  "language_info": {
   "codemirror_mode": {
    "name": "ipython",
    "version": 3
   },
   "file_extension": ".py",
   "mimetype": "text/x-python",
   "name": "python",
   "nbconvert_exporter": "python",
   "pygments_lexer": "ipython3",
   "version": "3.9.17"
  },
  "vscode": {
   "interpreter": {
    "hash": "21235bfbcdedf2665b5151eaa54ce1b52e2aedda830f3ac9ffc07c80b12e8744"
   }
  }
 },
 "nbformat": 4,
 "nbformat_minor": 2
}
